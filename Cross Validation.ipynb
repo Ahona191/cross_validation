{
 "cells": [
  {
   "cell_type": "code",
   "execution_count": 6,
   "id": "78970f98-f9bb-40e6-9f1f-8bf2733d87e2",
   "metadata": {},
   "outputs": [],
   "source": [
    "#!conda install -c conda-forge xgboost -y\n",
    "\n"
   ]
  },
  {
   "cell_type": "code",
   "execution_count": 8,
   "id": "42da8d43-2f41-42ad-94ca-28260478fecb",
   "metadata": {},
   "outputs": [
    {
     "name": "stdout",
     "output_type": "stream",
     "text": [
      "Requirement already satisfied: xgboost in f:\\anaconda\\lib\\site-packages (2.1.3)\n",
      "Requirement already satisfied: numpy in f:\\anaconda\\lib\\site-packages (from xgboost) (1.26.4)\n",
      "Requirement already satisfied: scipy in f:\\anaconda\\lib\\site-packages (from xgboost) (1.13.1)\n"
     ]
    }
   ],
   "source": [
    "!pip install xgboost\n"
   ]
  },
  {
   "cell_type": "markdown",
   "id": "5d269b36-1949-4fa2-8b35-35bd7a27aa64",
   "metadata": {},
   "source": [
    "# **Import Libraries**"
   ]
  },
  {
   "cell_type": "code",
   "execution_count": 1,
   "id": "0cd99d5e-b4b3-4ff6-b6e3-469198c9af8f",
   "metadata": {},
   "outputs": [],
   "source": [
    "import numpy as np \n",
    "import xgboost as xgb \n",
    "from sklearn.datasets import make_classification \n",
    "from sklearn.model_selection import train_test_split, KFold, StratifiedKFold, cross_val_score \n",
    "import warnings \n",
    "warnings.filterwarnings('ignore') "
   ]
  },
  {
   "cell_type": "markdown",
   "id": "7fe4be19-da32-4e4e-aafa-e09f67b7b7fe",
   "metadata": {},
   "source": [
    "# **Generating synthetic data & splitting into train-test**"
   ]
  },
  {
   "cell_type": "code",
   "execution_count": 2,
   "id": "a42096e2-a401-4af3-b6a3-8e9af990da10",
   "metadata": {},
   "outputs": [],
   "source": [
    "x,y=make_classification(n_samples=1000,n_informative=2, n_redundant=10, random_state=42) \n",
    "x_train,x_test,y_train,y_test=train_test_split(x,y,test_size=0.30, random_state=42)"
   ]
  },
  {
   "cell_type": "markdown",
   "id": "c303cb9b-e824-482e-b01b-2b42e47b26c7",
   "metadata": {},
   "source": [
    "# **XGBoost Classifier**"
   ]
  },
  {
   "cell_type": "code",
   "execution_count": null,
   "id": "dfa2b087-9632-4fce-aaa2-ecc5f00b1bdb",
   "metadata": {},
   "outputs": [],
   "source": [
    "clf=xgb.XGBClassifier(use_label_encoder=False, eval_metric='logloss') \n",
    "clf.fit(x_train, y_train)"
   ]
  },
  {
   "cell_type": "code",
   "execution_count": null,
   "id": "4148d0d0-afd7-4b1d-a654-2647e92d580c",
   "metadata": {},
   "outputs": [],
   "source": [
    "clf.fit(x_train,y_train)"
   ]
  },
  {
   "cell_type": "markdown",
   "id": "8ab494c1-60f4-4b37-ba09-d24a261ebe02",
   "metadata": {},
   "source": [
    "# **Perform k-Fold Cross-Validation**"
   ]
  },
  {
   "cell_type": "code",
   "execution_count": null,
   "id": "ba181550-d3e0-44e3-8cad-91ff1ab7658b",
   "metadata": {},
   "outputs": [],
   "source": [
    "kf=Stratified"
   ]
  }
 ],
 "metadata": {
  "kernelspec": {
   "display_name": "Python [conda env:base] *",
   "language": "python",
   "name": "conda-base-py"
  },
  "language_info": {
   "codemirror_mode": {
    "name": "ipython",
    "version": 3
   },
   "file_extension": ".py",
   "mimetype": "text/x-python",
   "name": "python",
   "nbconvert_exporter": "python",
   "pygments_lexer": "ipython3",
   "version": "3.12.3"
  }
 },
 "nbformat": 4,
 "nbformat_minor": 5
}
